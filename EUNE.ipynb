{
 "cells": [
  {
   "cell_type": "code",
   "execution_count": 2,
   "metadata": {},
   "outputs": [],
   "source": [
    "import lxml.html as lx\n",
    "import pandas as pd\n",
    "import numpy as np\n",
    "import requests\n",
    "import requests_cache\n",
    "import numpy as np\n",
    "import nltk\n",
    "import nltk.corpus\n",
    "from nltk.corpus import wordnet\n",
    "from itertools import chain\n",
    "from plotnine import *\n",
    "import time\n",
    "import matplotlib.pyplot as plt\n",
    "import argparse\n",
    "%matplotlib inline"
   ]
  },
  {
   "cell_type": "code",
   "execution_count": 3,
   "metadata": {},
   "outputs": [],
   "source": [
    "#EUNE forum\n",
    "def get_page_url(base_url, page_url):\n",
    "    requests_cache.install_cache('page_logs')\n",
    "    next_page_available = True\n",
    "    cur_page = 1;\n",
    "    urls = []\n",
    "    while True:\n",
    "        try:\n",
    "            time.sleep(.1)\n",
    "            response = requests.get(page_url+str(cur_page))\n",
    "            html = lx.fromstring(response.text)\n",
    "            html.make_links_absolute(base_url)\n",
    "            url = html.xpath(\"//tbody//td/a/@href\")\n",
    "            urls += url\n",
    "            cur_page +=1;\n",
    "        except:\n",
    "            break\n",
    "    return urls\n",
    "\n",
    "base_url = \"http://forums.eune.leagueoflegends.com/\"\n",
    "extension = \"board/forumdisplay.php?f=85&page=\"\n",
    "pages_url = get_page_url(base_url, base_url+extension)"
   ]
  },
  {
   "cell_type": "code",
   "execution_count": 5,
   "metadata": {},
   "outputs": [
    {
     "data": {
      "text/plain": [
       "10049"
      ]
     },
     "execution_count": 5,
     "metadata": {},
     "output_type": "execute_result"
    }
   ],
   "source": [
    "def unique(links):\n",
    "    url = []\n",
    "    for items in links:\n",
    "        if items not in url:\n",
    "            url.append(items)\n",
    "    return url\n",
    "pages_url = unique(pages_url)\n",
    "len(pages_url)"
   ]
  },
  {
   "cell_type": "code",
   "execution_count": null,
   "metadata": {},
   "outputs": [],
   "source": [
    "op_url = \"https://eune.op.gg/summoner/userName=\"\n",
    "\n",
    "def rank_lvl(name):\n",
    "    requests_cache.install_cache(\"opna\")\n",
    "    time.sleep(.1)\n",
    "    response = requests.get(op_url+name)\n",
    "    response.raise_for_status()\n",
    "    html = lx.fromstring(response.text)\n",
    "    \n",
    "    lvl = html.xpath(\"//*[contains(@class,'Level tip')]\")\n",
    "    recent_rank = html.xpath(\"//*[contains(@class, 'PastRankList')]/li[last()]\")\n",
    "    if len(lvl) > 0:\n",
    "        lvl = lvl[0].text_content().strip()\n",
    "    \n",
    "    if len(recent_rank) > 0:\n",
    "        recent_rank = recent_rank[0].text_content().strip()\n",
    "        \n",
    "    if len(lvl) > 0 and len(recent_rank) >0:\n",
    "        return recent_rank,lvl\n",
    "    \n",
    "    elif len(lvl)>0:\n",
    "        return np.nan,lvl\n",
    "    \n",
    "    else:\n",
    "        return np.nan, np.nan\n",
    "\n"
   ]
  },
  {
   "cell_type": "code",
   "execution_count": 6,
   "metadata": {},
   "outputs": [],
   "source": [
    "def page_info(url):\n",
    "    dates = []\n",
    "    names = []\n",
    "    members = []\n",
    "    texts = []\n",
    "    lvl = []\n",
    "    rank = []\n",
    "    requests_cache.install_cache(\"page_posts\")\n",
    "    try:\n",
    "        response = requests.get(url)\n",
    "        response.raise_for_status()\n",
    "        html = lx.fromstring(response.text)\n",
    "        time.sleep(.1)\n",
    "        title = html.xpath(\"//*[contains(@class, 'float-left')]/h3\")[0].text_content()\n",
    "        all_dates = html.xpath(\"//*[contains(@class, 'post-header padding-side-10 clearfix')]\")\n",
    "        all_users = html.xpath(\"//*[contains(@class, 'post-user')]\")\n",
    "        member_type = html.xpath(\"//*[contains(@class, 'post-col-left')]//p\")[1::2]\n",
    "        for i in range(len(all_dates)):\n",
    "            dates.append(all_dates[i].text_content().strip())\n",
    "            names.append(all_users[i].text_content().strip())\n",
    "            members.append(member_type[i].text_content().strip())\n",
    "            texts.append(html.xpath(\"//*[contains(@class,'post-message')]//p\")[i].text_content().strip())\n",
    "        for name in names:\n",
    "            op_na = rank_lvl(name)\n",
    "            rank.append(op_na[0])\n",
    "            lvl.append(op_na[1])\n",
    "        return pd.DataFrame({'user_name':names,\"tier\": rank, \"level\": lvl, \"tier\": rank, \"level\": lvl, 'member_type': members, 'dates': dates,'title': title, 'text':texts})\n",
    "    except:\n",
    "        return\n",
    "\n",
    "eu_page_df = [page_info(url) for url in pages_url]"
   ]
  },
  {
   "cell_type": "code",
   "execution_count": null,
   "metadata": {},
   "outputs": [],
   "source": []
  }
 ],
 "metadata": {
  "kernelspec": {
   "display_name": "Python 3",
   "language": "python",
   "name": "python3"
  },
  "language_info": {
   "codemirror_mode": {
    "name": "ipython",
    "version": 3
   },
   "file_extension": ".py",
   "mimetype": "text/x-python",
   "name": "python",
   "nbconvert_exporter": "python",
   "pygments_lexer": "ipython3",
   "version": "3.7.1"
  }
 },
 "nbformat": 4,
 "nbformat_minor": 2
}
