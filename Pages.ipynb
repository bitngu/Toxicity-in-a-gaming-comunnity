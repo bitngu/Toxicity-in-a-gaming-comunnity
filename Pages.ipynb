{
 "cells": [
  {
   "cell_type": "code",
   "execution_count": 9,
   "metadata": {},
   "outputs": [],
   "source": [
    "import lxml.html as lx\n",
    "import pandas as pd\n",
    "import numpy as np\n",
    "import requests\n",
    "import requests_cache\n",
    "import numpy as np\n",
    "import nltk\n",
    "import nltk.corpus\n",
    "from nltk.corpus import wordnet\n",
    "from itertools import chain\n",
    "from plotnine import *\n",
    "import time\n",
    "import matplotlib.pyplot as plt\n",
    "import argparse\n",
    "%matplotlib inline"
   ]
  },
  {
   "cell_type": "code",
   "execution_count": 24,
   "metadata": {},
   "outputs": [],
   "source": [
    "def get_page_url(base_url, page_url):\n",
    "    requests_cache.install_cache('page_logs')\n",
    "    cur_page = 1;\n",
    "    urls = []\n",
    "    while True:\n",
    "        try:\n",
    "            time.sleep(.05)\n",
    "            response = requests.get(page_url+str(cur_page))\n",
    "            html = lx.fromstring(response.text)\n",
    "            html.make_links_absolute(base_url)\n",
    "            url = html.xpath(\"//tbody//td/a/@href\")\n",
    "            urls += url\n",
    "            cur_page +=1;\n",
    "        except:\n",
    "            break\n",
    "    return urls"
   ]
  },
  {
   "cell_type": "code",
   "execution_count": 25,
   "metadata": {},
   "outputs": [],
   "source": [
    "def unique(links):\n",
    "    url = []\n",
    "    for items in links:\n",
    "        if items not in url:\n",
    "            url.append(items)\n",
    "    return url"
   ]
  },
  {
   "cell_type": "code",
   "execution_count": 26,
   "metadata": {},
   "outputs": [],
   "source": [
    "def rank_lvl(op_url, name):\n",
    "    requests_cache.install_cache(\"opna\")\n",
    "    time.sleep(.005)\n",
    "    response = requests.get(op_url+name)\n",
    "    response.raise_for_status()\n",
    "    html = lx.fromstring(response.text)\n",
    "    \n",
    "    lvl = html.xpath(\"//*[contains(@class,'Level tip')]\")\n",
    "    recent_rank = html.xpath(\"//*[contains(@class, 'PastRankList')]/li[last()]\")\n",
    "    if len(lvl) > 0:\n",
    "        lvl = lvl[0].text_content().strip()\n",
    "    \n",
    "    if len(recent_rank) > 0:\n",
    "        recent_rank = recent_rank[0].text_content().strip()\n",
    "        \n",
    "    if len(lvl) > 0 and len(recent_rank) >0:\n",
    "        return recent_rank,lvl\n",
    "    \n",
    "    elif len(lvl)>0:\n",
    "        return np.nan,lvl\n",
    "    else:\n",
    "        return np.nan, np.nan "
   ]
  },
  {
   "cell_type": "code",
   "execution_count": 38,
   "metadata": {},
   "outputs": [],
   "source": [
    "def page_info(url,op_url):\n",
    "    dates = []\n",
    "    names = []\n",
    "    members = []\n",
    "    texts = []\n",
    "    lvl = []\n",
    "    rank = []\n",
    "    requests_cache.install_cache(\"page_posts\")\n",
    "    try:\n",
    "        response = requests.get(url)\n",
    "        response.raise_for_status()\n",
    "        html = lx.fromstring(response.text)\n",
    "        time.sleep(.1)\n",
    "        title = html.xpath(\"//*[contains(@class, 'float-left')]/h3\")[0].text_content()\n",
    "        all_dates = html.xpath(\"//*[contains(@class, 'post-header padding-side-10 clearfix')]\")\n",
    "        all_users = html.xpath(\"//*[contains(@class, 'post-user')]\")\n",
    "        member_type = html.xpath(\"//*[contains(@class, 'post-col-left')]//p\")[1::2]\n",
    "        for i in range(len(all_dates)):\n",
    "            dates.append(all_dates[i].text_content().strip())\n",
    "            names.append(all_users[i].text_content().strip())\n",
    "            members.append(member_type[i].text_content().strip())\n",
    "            texts.append(html.xpath(\"//*[contains(@class,'post-message')]//p\")[i].text_content().strip())\n",
    "        for name in names:\n",
    "            op_na = rank_lvl(op_url,name)\n",
    "            rank.append(op_na[0])\n",
    "            lvl.append(op_na[1])\n",
    "        return pd.DataFrame({'user_name':names,\"tier\": rank, \"level\": lvl, \"tier\": rank, \"level\": lvl, 'member_type': members, 'dates': dates,'title': title, 'text':texts})\n",
    "    except:\n",
    "        return"
   ]
  },
  {
   "cell_type": "code",
   "execution_count": 39,
   "metadata": {},
   "outputs": [],
   "source": [
    "#NA \n",
    "na_base_url = \"http://forums.na.leagueoflegends.com/\"\n",
    "na_extension = \"board/forumdisplay.php?f=59&page=\"\n",
    "na_op_url = \"https://na.op.gg/summoner/userName=\"\n",
    "\n",
    "#EUW\n",
    "euw_base_url = \"http://forums.euw.leagueoflegends.com/\"\n",
    "euw_extension = \"board/forumdisplay.php?f=85&page=\"\n",
    "euw_op_url = \"https://euw.op.gg/summoner/userName=\"\n",
    "\n",
    "#EUNE\n",
    "eune_base_url = \"http://forums.eune.leagueoflegends.com/\"\n",
    "eune_extension = \"board/forumdisplay.php?f=85&page=\"\n",
    "eune_op_url = \"https://eune.op.gg/summoner/userName=\"\n",
    "\n",
    "#OCE\n",
    "oce_base_url = \"http://forums.oce.leagueoflegends.com/\"\n",
    "oce_extension = \"board/forumdisplay.php?f=59&page=\"\n",
    "oce_op_url = \"https://oce.op.gg/summoner/userName=\"\n"
   ]
  },
  {
   "cell_type": "code",
   "execution_count": 40,
   "metadata": {},
   "outputs": [],
   "source": [
    "def region_pages_info(region_base_url, region_extension, region_op_url):\n",
    "    region_pages_url = get_page_url(region_base_url, region_base_url + region_extension)\n",
    "    region_pages_url = unique(region_pages_url)\n",
    "    print(region_pages_url[:5])\n",
    "    \n",
    "    return [page_info(url, region_op_url) for url in region_pages_url[:3]]"
   ]
  },
  {
   "cell_type": "code",
   "execution_count": 41,
   "metadata": {},
   "outputs": [
    {
     "name": "stdout",
     "output_type": "stream",
     "text": [
      "['http://forums.euw.leagueoflegends.com/board/showthread.php?t=788232', 'http://forums.euw.leagueoflegends.com/board/showthread.php?t=536799', 'http://forums.euw.leagueoflegends.com/board/showthread.php?t=1622322', 'http://forums.euw.leagueoflegends.com/board/showthread.php?t=2104510', 'http://forums.euw.leagueoflegends.com/board/showthread.php?t=2104933']\n"
     ]
    },
    {
     "data": {
      "text/plain": [
       "[         user_name       tier level                   member_type       dates  \\\n",
       " 0        Riot Lyte        NaN    30  Lead Social Systems Designer  07-28-2012   \n",
       " 1        Riot Lyte        NaN    30  Lead Social Systems Designer  07-28-2012   \n",
       " 2        Riot Lyte        NaN    30  Lead Social Systems Designer  07-28-2012   \n",
       " 3   RiotKiddington        NaN   NaN             Platform Engineer  07-29-2012   \n",
       " 4          smitske        NaN    30                        Member  07-29-2012   \n",
       " 5  SirKibaTheIIIrd        NaN    16                 Senior Member  07-29-2012   \n",
       " 6  SinisterMrCream        NaN    30                 Senior Member  07-30-2012   \n",
       " 7         baccaraa    S4 Gold    89                 Senior Member  07-31-2012   \n",
       " 8          Konerai  S7 Silver    30                        Member  08-01-2012   \n",
       " 9        Riot Lyte        NaN    30  Lead Social Systems Designer  08-07-2012   \n",
       " \n",
       "                           title  \\\n",
       " 0  Tribunal FAQ [Updated 18/06]   \n",
       " 1  Tribunal FAQ [Updated 18/06]   \n",
       " 2  Tribunal FAQ [Updated 18/06]   \n",
       " 3  Tribunal FAQ [Updated 18/06]   \n",
       " 4  Tribunal FAQ [Updated 18/06]   \n",
       " 5  Tribunal FAQ [Updated 18/06]   \n",
       " 6  Tribunal FAQ [Updated 18/06]   \n",
       " 7  Tribunal FAQ [Updated 18/06]   \n",
       " 8  Tribunal FAQ [Updated 18/06]   \n",
       " 9  Tribunal FAQ [Updated 18/06]   \n",
       " \n",
       "                                                 text  \n",
       " 0  Hey all,\\n\\nSome of the information in the old...  \n",
       " 1  More information on how the Tribunal works and...  \n",
       " 2  22.\\tIs there a role/champion that tends to be...  \n",
       " 3                                        Thanks Lyte  \n",
       " 4  Nice Riot finally does something to acknowledg...  \n",
       " 5  Is there any chance that in the near future re...  \n",
       " 6  How about the question I've posted in here:\\n\\...  \n",
       " 7  after we solved alot of cases...\\nand you guys...  \n",
       " 8  Could you make the usernames static in the pos...  \n",
       " 9                Updated the FAQ with new questions.  ,\n",
       "         user_name       tier level      member_type       dates  \\\n",
       " 0    LkG MisterL2  S8 Silver    45    Senior Member  12-30-2011   \n",
       " 1        Interfix        NaN    30    Senior Member  12-30-2011   \n",
       " 2    LkG MisterL2  S8 Silver    45    Senior Member  12-30-2011   \n",
       " 3  Humpelstilzche    S8 Gold   114  Senior Emissary  12-30-2011   \n",
       " 4    LkG MisterL2  S8 Silver    45    Senior Member  12-30-2011   \n",
       " 5        Wolfwent  S7 Silver    30    Senior Member  12-30-2011   \n",
       " 6  Hodin van Oden    S8 Gold    95    Senior Member  12-30-2011   \n",
       " 7    LkG MisterL2  S8 Silver    45    Senior Member  12-30-2011   \n",
       " 8  Humpelstilzche    S8 Gold   114  Senior Emissary  12-30-2011   \n",
       " 9        Wolfwent  S7 Silver    30    Senior Member  12-30-2011   \n",
       " \n",
       "                               title  \\\n",
       " 0  FAQ - Frequently asked questions   \n",
       " 1  FAQ - Frequently asked questions   \n",
       " 2  FAQ - Frequently asked questions   \n",
       " 3  FAQ - Frequently asked questions   \n",
       " 4  FAQ - Frequently asked questions   \n",
       " 5  FAQ - Frequently asked questions   \n",
       " 6  FAQ - Frequently asked questions   \n",
       " 7  FAQ - Frequently asked questions   \n",
       " 8  FAQ - Frequently asked questions   \n",
       " 9  FAQ - Frequently asked questions   \n",
       " \n",
       "                                                 text  \n",
       " 0  I copyed this FAQ from the German Forum with t...  \n",
       " 1                                                     \n",
       " 2                                                     \n",
       " 3  Mach mal die Fragen noch fett und die AbstÃ¤nd...  \n",
       " 4                                                     \n",
       " 5  A12: In Tribunal, their are often players, tha...  \n",
       " 6  vote for sticky \\n\\nedit:  A15:   Just punish ...  \n",
       " 7                                                     \n",
       " 8  Thats why we tell you what is wrong. I revoke ...  \n",
       " 9  I do this for fun too. The proposed changes ar...  ,\n",
       "        user_name     tier level            member_type       dates  \\\n",
       " 0  Riot Draggles  S6 Gold    30  Community Coordinator  02-28-2014   \n",
       " \n",
       "                               title  \\\n",
       " 0  [FORUM RULE]: Naming and Shaming   \n",
       " \n",
       "                                                 text  \n",
       " 0  Hey everyone,\\r\\n\\r\\nI just want to post a rem...  ]"
      ]
     },
     "execution_count": 41,
     "metadata": {},
     "output_type": "execute_result"
    }
   ],
   "source": [
    "euw = region_pages_info(euw_base_url,euw_extension,euw_op_url)\n",
    "# eune = region_pages_info(eune_base_url,eune_extension,eune_op_url)\n",
    "# na = region_pages_info(na_base_url, na_extension, na_op_url)\n",
    "# oce = region_pages_info(oce_base_url,oce_extension,oce_op_url)\n",
    "euw"
   ]
  },
  {
   "cell_type": "code",
   "execution_count": 53,
   "metadata": {},
   "outputs": [],
   "source": [
    "#Turn into dataframe\n",
    "euw_df = pd.concat(euw)\n",
    "eune_df = pd.concat(eune)\n",
    "na_df = pd.concat(na)\n",
    "oce_df = pd.concat(oce)"
   ]
  },
  {
   "cell_type": "code",
   "execution_count": 58,
   "metadata": {},
   "outputs": [],
   "source": [
    "#Merge data\n",
    "all_regions = pd.concat([na_df,euw_df,eune_df,oce_df]).reset_index()\n",
    "all_regions.columns.values[0] = 'tree'\n",
    "all_regions.to_dense().to_csv(\"pages_forum.csv\", index = False, sep=',', encoding='utf-8')"
   ]
  },
  {
   "cell_type": "code",
   "execution_count": null,
   "metadata": {},
   "outputs": [],
   "source": []
  }
 ],
 "metadata": {
  "kernelspec": {
   "display_name": "Python 3",
   "language": "python",
   "name": "python3"
  },
  "language_info": {
   "codemirror_mode": {
    "name": "ipython",
    "version": 3
   },
   "file_extension": ".py",
   "mimetype": "text/x-python",
   "name": "python",
   "nbconvert_exporter": "python",
   "pygments_lexer": "ipython3",
   "version": "3.7.1"
  }
 },
 "nbformat": 4,
 "nbformat_minor": 2
}
